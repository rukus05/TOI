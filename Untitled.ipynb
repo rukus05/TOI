{
 "cells": [
  {
   "cell_type": "code",
   "execution_count": 8,
   "id": "fdacc67d-d224-4a6a-8b6c-fe525344e3f5",
   "metadata": {},
   "outputs": [],
   "source": [
    "from msilib.schema import File\n",
    "import time\n",
    "import pandas as pd\n",
    "import re\n",
    "import openpyxl\n",
    "import datetime\n",
    "import tkinter as tk\n",
    "from tkinter import TOP, ttk\n",
    "from tkinter import filedialog as fd\n",
    "from tkinter.messagebox import showinfo\n",
    "from tkinter.filedialog import asksaveasfile\n",
    "import PySimpleGUI as sg"
   ]
  },
  {
   "cell_type": "code",
   "execution_count": 13,
   "id": "e0d11b97-2c79-4a6a-9c62-c5ebb525d588",
   "metadata": {},
   "outputs": [],
   "source": [
    "def main(): \n",
    "    \n",
    "    start = time.time()\n",
    "    # If the raw data file has all the data in one file (002, 007, 008 sheets), you must save each entity in it's own file and run the program against each.\n",
    "    # Read in Data from the \"RawData.xlsx\" file.\n",
    "    f = FilePrompt()\n",
    "    df_toi = pd.read_excel(f)\n",
    "\n",
    "    df_toi = df_toi.reset_index()\n",
    "\n",
    "    df_groupby = df_toi.groupby(['Company Code', 'Home Department Code', 'Location Code']).size().reset_index()\n",
    "    #df_groupby = df_groupby.reset_index()\n",
    "    # display(df_groupby.head())\n",
    "    #print(df_groupby)\n",
    "    type(df_groupby)\n",
    "    df_groupby.to_excel('test.xlsx', index = False)\n",
    "\n",
    "\n",
    "\n",
    "\n",
    "\n",
    "def FilePrompt():\n",
    "    root = tk.Tk()\n",
    "    root.title('Tkinter Open File Dialog')\n",
    "    root.resizable(False, False)\n",
    "    root.geometry('300x150')\n",
    "    root.withdraw()\n",
    "\n",
    "\n",
    "    filename = fd.askopenfilename()\n",
    "\n",
    "    return filename\n",
    "\n",
    "if __name__ == \"__main__\":\n",
    "    main()"
   ]
  },
  {
   "cell_type": "code",
   "execution_count": null,
   "id": "89a5bdbe-6ff9-4ae9-b778-6ee1ffa673d1",
   "metadata": {},
   "outputs": [],
   "source": []
  }
 ],
 "metadata": {
  "kernelspec": {
   "display_name": "Python 3 (ipykernel)",
   "language": "python",
   "name": "python3"
  },
  "language_info": {
   "codemirror_mode": {
    "name": "ipython",
    "version": 3
   },
   "file_extension": ".py",
   "mimetype": "text/x-python",
   "name": "python",
   "nbconvert_exporter": "python",
   "pygments_lexer": "ipython3",
   "version": "3.10.4"
  }
 },
 "nbformat": 4,
 "nbformat_minor": 5
}
