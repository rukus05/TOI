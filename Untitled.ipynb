{
 "cells": [
  {
   "cell_type": "code",
   "execution_count": 1,
   "id": "fdacc67d-d224-4a6a-8b6c-fe525344e3f5",
   "metadata": {},
   "outputs": [],
   "source": [
    "from msilib.schema import File\n",
    "import time\n",
    "import pandas as pd\n",
    "import re\n",
    "import openpyxl\n",
    "import datetime\n",
    "import tkinter as tk\n",
    "from tkinter import TOP, ttk\n",
    "from tkinter import filedialog as fd\n",
    "from tkinter.messagebox import showinfo\n",
    "from tkinter.filedialog import asksaveasfile\n",
    "import PySimpleGUI as sg"
   ]
  },
  {
   "cell_type": "code",
   "execution_count": 6,
   "id": "e0d11b97-2c79-4a6a-9c62-c5ebb525d588",
   "metadata": {},
   "outputs": [
    {
     "name": "stdout",
     "output_type": "stream",
     "text": [
      "['index', 'Company Code', 'Last Name', 'First Name', 'Business Unit Description', 'Business Unit Code', 'Home Department Description', 'Home Department Code', 'Location Description', 'Location Code', 'Pay Date', 'Regular Hours Total', 'Regular Earnings Total', 'Overtime Hours Total', 'Overtime Earnings Total', '1FA_FF-FMLA_Other Earnings', '1FE_FF-PSL-EE_Other Earnings', '1FF_FF-PSL-FAM_Other Earnings', '1XQ_CA SPSL 22_Other Earnings', '1XV_CA SPSL PT_Other Earnings', '1XX_CA SUP PSL_Other Earnings', '7I_Other Earnings', 'AIP_Ann Incn Prog_Other Earnings', 'B_BONUS_Other Earnings', 'BON_Other Earnings', 'BST_Benefit Stipend_Other Earnings', 'C_Miscellaneous_Other Earnings', 'CBI_CA Break_Other Earnings', 'CLB_Cln Trl Ref Bo_Other Earnings', 'CMD_CLIN RES MD_Other Earnings', 'CMI_CA Meal Issue_Other Earnings', 'DSP_DISP SUPVR_Other Earnings', 'DT_DOUBLETIME_Other Earnings', 'E_EDUCATION HRS_Other Earnings', 'ELA_ExsdUpLvErly_Other Earnings', 'FCP_Penalty_Other Earnings', 'FLT_Float Holiday_Other Earnings', 'H_HOLIDAY_Other Earnings', 'I_Other Earnings', 'IMD_IT MD_Other Earnings', 'LMD_LAB MD_Other Earnings', 'M_Mileage_Other Earnings', 'MGB_MGMT Bonus_Other Earnings', 'MP_Premium Pay_Other Earnings', 'N_Other Earnings', 'O_Other_Other Earnings', 'OI_Other Earnings', 'P_PERSONAL_Other Earnings', 'PBO_PEC Bonus_Other Earnings', 'PDT_Prior DT_Other Earnings', 'PHA_Phant Pay Phys Taxes_Other Earnings', 'PMD_POD MD_Other Earnings', 'PNW_PaidNotWrkd_Other Earnings', 'POT_Prior OT_Other Earnings', 'PP_PHANTOM PAY_Other Earnings', 'PYB_Physician Bon_Other Earnings', 'R_BEREAVMENT_Other Earnings', 'REG_Regular Pay_Other Earnings', 'REI_NONTAX REIM_Other Earnings', 'RET_Retro Pay_Other Earnings', 'RF1_Referral B_Other Earnings', 'RIV_Riverside_Other Earnings', 'RT1_Retention_Other Earnings', 'S_SICK_Other Earnings', 'SEV_Severance_Other Earnings', 'SG1_Sign-on Bo_Other Earnings', 'SP1_Sev  COVID_Other Earnings', 'SP2_Severance_Other Earnings', 'SPL_C19 Supp Sick_Other Earnings', 'STK_Stock Options_Other Earnings', 'STP_Stipend_Other Earnings', 'T_Other Earnings', 'TMD_TRFS MD_Other Earnings', 'TXR_Taxed Reim_Other Earnings', 'U_Other Earnings', 'UMD_UM MD_Other Earnings', 'V_VACATION_Other Earnings', 'WFH_workfromhome_Other Earnings', 'WRQ_WRK REQ_Other Earnings', 'X_Other Earnings', 'XCL_EXTRA CLINIC_Other Earnings', 'XHP_EXTRA HOSP_Other Earnings', 'Z_Other Earnings', 'Gross Pay', 'WAGES', 'OT', 'BONUS', 'SIGNING BONUS', 'VACATION', 'SEVERANCE', '1_Deduction', '5_OREGON WBF TAX_Deduction', '69_TAXL$_Deduction', '70_Bankruptcy$_Deduction', '71_Tax Levy$_Deduction', '72_Tax Levy$_Deduction', '73_Garnishment$_Deduction', '74_Garnishment$_Deduction', '75_Child Support$_Deduction', '76_Child Support$_Deduction', '77_Child Support$_Deduction', '78_Child Support$_Deduction', '79_Wage Agreement$_Deduction', 'A_AFLACPRETAX_Deduction', 'ADD_Persnl Acc_Deduction', 'B_ALFAC POSTAX_Deduction', 'BA1_BANKRUPTCY 1 $_Deduction', 'BA2_BANKRUPTCY 1 %_Deduction', 'C_MEDICARE SURTAX_Deduction', 'CK1_CHECKING_Deduction', 'CK2_CHECKING 2_Deduction', 'CK3_CHECKING 3_Deduction', 'CLB_CLifeBuy_Deduction', 'CS1_CHILD SUPPORT_Deduction', 'D_DENT_Deduction', 'DEP_Dep Care FSA_Deduction', 'DN1_Dental Care_Deduction', 'ELB_ELifeBuy_Deduction', 'FSA_Medical FSA_Deduction', 'G_GARNISHMENT_Deduction', 'GA1_GARNISH 1 $_Deduction', 'GA2_GARNISH 2 $_Deduction', 'GA3_GARNISH 3 $_Deduction', 'GA4_GARNISH 1 %_Deduction', 'GA5_GARNISH 2 %_Deduction', 'GA6_GARNISH 3 %_Deduction', 'HS_HSA_Deduction', 'HSA_Deduction', 'HSC_HSA CHECKING_Deduction', 'HSP_HOSPIN_Deduction', 'HSS_HSA SAVING_Deduction', 'IDT_IDTHFT_Deduction', 'K_401K$_Deduction', 'L_401k L_Deduction', 'LFS_Ltd. Purpose_Deduction', 'LGL_LEGAL_Deduction', 'LTD_Long Term Disb_Deduction', 'M_MEDI_Deduction', 'ME1_Medical Care_Deduction', 'MIB_MEDINSBUYUP_Deduction', 'N_ADVANCE_Deduction', 'ORX_OR TRANSIT TAX_Deduction', 'OVP_Loan_Deduction', 'P_PPLS_Deduction', 'PET_Deduction', 'PHA_Phone Allowance_Deduction', 'PP_Phantom Pay_Deduction', 'R_Roth 401k $_Deduction', 'RSU_Other_Deduction', 'S_MISCELLANEOUS_Deduction', 'SL1_Supp. Life Ins._Deduction', 'SLB_SLifeBuy_Deduction', 'ST1_Short Trm Disb_Deduction', 'STI_Short Trm Disb_Deduction', 'SV1_SAVINGS_Deduction', 'SV2_SAVINGS 2_Deduction', 'TEP_Educational Pro_Deduction', 'TL1_TAX LEVY 1 $_Deduction', 'TL2_TAX LEVY 2 $_Deduction', 'TL3_TAX LEVY 1 %_Deduction', 'TL4_TAX LEVY 2 %_Deduction', 'V_VISION_Deduction', 'VCI_Critical Illnes_Deduction', 'VI1_Vision Care_Deduction', 'Z_1099 Employess_Deduction', '1FM_HLTH-FMLA CR_Memo', '1HC_HLTH-PSL CR_Memo', '1RH_CARES-HEALTH CR_Memo', '1RW_CARES-WAGE CR_Memo', '1XQ_CA SPSL 22_Memo', '1XV_CA SPSL 22 PT_Memo', '1XW_CA SPSL 22 Addl_Memo', '1XX_CA SUP AVAIL_Memo', 'B_Hlth Plan Value_Memo', 'D_Memo', 'FLT_Floating Holiday_Memo', 'M_401K_Memo', 'N_Net to Gross_Memo', 'PPB_Pri Per Beg Date_Memo', 'PPE_Pr Per End Date_Memo', 'SCK_Sick Balance_Memo', 'VAC_Vacation Balance_Memo', 'X_401k Eligib_Memo', 'Z_Memo', 'Family Leave Insurance - Employee Tax', 'Family Leave Insurance - Employer Tax', 'Federal Income - Employee Tax', 'FUTA - Employer Tax', 'Lived in Local - EE Tax', 'Lived in Local - Employer Tax', 'Lived in State- EE Tax', 'Lived in State - Employer Tax', 'Local 10 - Employee Tax', 'Local 4 - Employee Tax', 'Local 4 - Employer Tax', 'Local 5 - Employee Tax', 'Local 5 - Employer Tax', 'Local 9 - Employee Tax', 'Medical Leave Insurance - Employee Tax', 'Medical Leave Insurance - Employer Tax', 'Medicare - Employee Tax', 'Medicare - Employer Tax', 'SDI - Employee Tax', 'SDI - Employer Tax', 'Social Security - Employee Tax', 'Social Security - Employer Tax', 'SUI - Employee Tax', 'SUI - Employer Tax', 'SUI/SDI Employee Tax', 'SUI/SDI - Employer Tax', 'Transit - Employee Tax', 'Transit - Employer Tax', 'Worked in Local - EE Tax', 'Worked in Local - Employer Tax', 'Worked in State- EE Tax', 'Worked in State - Employer Tax', 'Batch Number']\n"
     ]
    }
   ],
   "source": [
    "def main(): \n",
    "    \n",
    "    start = time.time()\n",
    "    # If the raw data file has all the data in one file (002, 007, 008 sheets), you must save each entity in it's own file and run the program against each.\n",
    "    # Read in Data from the \"RawData.xlsx\" file.\n",
    "    f = FilePrompt()\n",
    "    df_toi = pd.read_excel(f)\n",
    "\n",
    "    df_toi = df_toi.reset_index()\n",
    "    col_headers = list(df_toi.columns)\n",
    "    #col_headers = df_toi.columns\n",
    "\n",
    "    print(col_headers)\n",
    "\n",
    "\n",
    "\n",
    "\n",
    "def FilePrompt():\n",
    "    root = tk.Tk()\n",
    "    root.title('Tkinter Open File Dialog')\n",
    "    root.resizable(False, False)\n",
    "    root.geometry('300x150')\n",
    "    root.withdraw()\n",
    "\n",
    "\n",
    "    filename = fd.askopenfilename()\n",
    "\n",
    "    return filename\n",
    "\n",
    "if __name__ == \"__main__\":\n",
    "    main()"
   ]
  },
  {
   "cell_type": "code",
   "execution_count": null,
   "id": "89a5bdbe-6ff9-4ae9-b778-6ee1ffa673d1",
   "metadata": {},
   "outputs": [],
   "source": []
  }
 ],
 "metadata": {
  "kernelspec": {
   "display_name": "Python 3 (ipykernel)",
   "language": "python",
   "name": "python3"
  },
  "language_info": {
   "codemirror_mode": {
    "name": "ipython",
    "version": 3
   },
   "file_extension": ".py",
   "mimetype": "text/x-python",
   "name": "python",
   "nbconvert_exporter": "python",
   "pygments_lexer": "ipython3",
   "version": "3.12.0"
  }
 },
 "nbformat": 4,
 "nbformat_minor": 5
}
