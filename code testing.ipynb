{
 "cells": [
  {
   "cell_type": "code",
   "execution_count": 8,
   "id": "3308322b-2410-4411-a6c5-c7c3ec934672",
   "metadata": {},
   "outputs": [
    {
     "name": "stdout",
     "output_type": "stream",
     "text": [
      "['Name', 'Age']\n",
      "Age\n",
      "Index: 0, Name: Alice, Age: 25\n",
      "Index: 1, Name: Bob, Age: 30\n",
      "Index: 2, Name: Charlie, Age: 35\n"
     ]
    }
   ],
   "source": [
    "import pandas as pd\n",
    "\n",
    "# Create a sample DataFrame\n",
    "data = {'Name': ['Alice', 'Bob', 'Charlie'],\n",
    "        'Age': [25, 30, 35]}\n",
    "df = pd.DataFrame(data)\n",
    "c_list = list(df.columns)\n",
    "print(c_list)\n",
    "print(df['Age'].name)\n",
    "# Iterate through rows using iterrows()\n",
    "for index, row in df.iterrows():\n",
    "    print(f'Index: {index}, Name: {row[\"Name\"]}, Age: {row[\"Age\"]}')\n"
   ]
  },
  {
   "cell_type": "code",
   "execution_count": 10,
   "id": "2f099167-f482-4275-9469-201de5a5d6e7",
   "metadata": {},
   "outputs": [
    {
     "name": "stdout",
     "output_type": "stream",
     "text": [
      "14010\n"
     ]
    }
   ],
   "source": [
    "gl_code = {'Rent' : 14010, 'Rent Sales Tax' : 14020, 'CAM' : 14020, 'CAM Sales Tax' : 14020}\n",
    "\n",
    "print(gl_code['Rent'])"
   ]
  },
  {
   "cell_type": "code",
   "execution_count": 50,
   "id": "b7bdf282-b190-45a1-84b3-35e1c5c335e2",
   "metadata": {},
   "outputs": [
    {
     "name": "stdout",
     "output_type": "stream",
     "text": [
      "60200\n"
     ]
    }
   ],
   "source": [
    "pay_mappings = {\n",
    "    100100 : [52010, 52200], \n",
    "    100200 : [52010, 52200], \n",
    "    100300 : [52010, 52200], \n",
    "    100400 : [60010, 60200], \n",
    "    200100 : [60010, 60200], \n",
    "    200200 : [60010, 60200], \n",
    "    300100 : [60010, 60200], \n",
    "    300200 : [60010, 60200], \n",
    "    300250 : [60010, 60200], \n",
    "    300300 : [60010, 60200], \n",
    "    300400 : [60010, 60200], \n",
    "    300500 : [60010, 60200], \n",
    "    400100 : [60010, 60200], \n",
    "    700100 : [60010, 60200], \n",
    "    700110 : [60010, 60200], \n",
    "    700120 : [60010, 60200], \n",
    "    700200 : [60010, 60200], \n",
    "    700205 : [60010, 60200], \n",
    "    700210 : [60010, 60200], \n",
    "    700215 : [60010, 60200], \n",
    "    700230 : [60010, 60200], \n",
    "    700300 : [60010, 60200], \n",
    "    700305 : [60010, 60200], \n",
    "    700310 : [60010, 60200], \n",
    "    700315 : [60010, 60200], \n",
    "    700320 : [60010, 60200], \n",
    "    700325 : [60010, 60200], \n",
    "    700326 : [60010, 60200], \n",
    "    700327 : [60010, 60200], \n",
    "    700330 : [60010, 60200], \n",
    "    700335 : [60010, 60200], \n",
    "    700340 : [60010, 60200], \n",
    "    700345 : [60010, 60200], \n",
    "    700350 : [60010, 60200], \n",
    "    700355 : [60010, 60200], \n",
    "    700360 : [60010, 60200], \n",
    "    701000 : [60010, 60200], \n",
    "    701100 : [60010, 60200], \n",
    "    701200 : [60010, 60200], \n",
    "    701210 : [60010, 60200], \n",
    "    702010 : [60010, 60200], \n",
    "    702100 : [60010, 60200], \n",
    "    702300 : [60010, 60200], \n",
    "    702400 : [60010, 60200], \n",
    "    702410 : [60010, 60200], \n",
    "    702415 : [60010, 60200], \n",
    "    702420 : [60010, 60200], \n",
    "    703000 : [60010, 60200], \n",
    "    704000 : [60010, 60200], \n",
    "    704100 : [60010, 60200], \n",
    "    704500 : [60010, 60200], \n",
    "    704505 : [60010, 60200], \n",
    "    705000 : [60010, 60200], \n",
    "    705500 : [60010, 60200], \n",
    "    705600 : [60010, 60200], \n",
    "\n",
    "}\n",
    "print (pay_mappings[705500][1])"
   ]
  },
  {
   "cell_type": "code",
   "execution_count": 16,
   "id": "490a5e75-cc27-47cb-a1bc-b3a7ac01e8b4",
   "metadata": {},
   "outputs": [
    {
     "name": "stdin",
     "output_type": "stream",
     "text": [
      "Please enter the 4 digit year for this accrual 2023\n",
      "Please enter the 2-digit month for this accrual. 11\n"
     ]
    },
    {
     "name": "stdout",
     "output_type": "stream",
     "text": [
      "2023-11-26\n"
     ]
    }
   ],
   "source": [
    "import calendar\n",
    "import datetime\n",
    "\n",
    "current_year = int(input(\"Please enter the 4 digit year for this accrual\"))\n",
    "\n",
    "current_month = int(input(\"Please enter the 2-digit month for this accrual.\"))\n",
    "ldop = datetime.date(current_year, current_month, 26)\n",
    "today = datetime.date.today()\n",
    "print(ldop)"
   ]
  },
  {
   "cell_type": "code",
   "execution_count": 52,
   "id": "463de24b-2cb2-4fde-ad6b-93cc2d717bc4",
   "metadata": {},
   "outputs": [
    {
     "name": "stdin",
     "output_type": "stream",
     "text": [
      "Please enter the 4 digit year for this accrual 2024\n",
      "Please enter the 2-digit month for this accrual. 03\n"
     ]
    },
    {
     "name": "stdout",
     "output_type": "stream",
     "text": [
      "Sunday\n",
      "2024-03-26 2024-03-31\n",
      "4\n"
     ]
    }
   ],
   "source": [
    "import calendar\n",
    "import datetime\n",
    "import numpy as np\n",
    "\n",
    "# Get the current date\n",
    "today = datetime.date.today()\n",
    "\n",
    "# Determine the last day of the current month\n",
    "end_accrual = datetime.date(today.year, today.month, calendar.monthrange(today.year, today.month)[1])\n",
    "\n",
    "\n",
    "\n",
    "current_year = int(input(\"Please enter the 4 digit year for this accrual\"))\n",
    "\n",
    "current_month = int(input(\"Please enter the 2-digit month for this accrual.\"))\n",
    "start_accrual = datetime.date(current_year, current_month, 26)\n",
    "# Determine the last day of the accrual month\n",
    "end_accrual = datetime.date(current_year, current_month, calendar.monthrange(current_year, current_month)[1])\n",
    "\n",
    "dow = end_accrual.strftime(\"%A\")\n",
    "print(dow)\n",
    "print(start_accrual, end_accrual)\n",
    "# Calculate the number of business days\n",
    "if dow == 'Saturday' or dow == 'Sunday':\n",
    "    business_days = np.busday_count(start_accrual, end_accrual)\n",
    "else:\n",
    "    business_days = np.busday_count(start_accrual, end_accrual) + 1\n",
    "print(business_days)\n",
    "\n"
   ]
  },
  {
   "cell_type": "code",
   "execution_count": null,
   "id": "a83fbd00-b9a5-4294-863a-f0964f7de7aa",
   "metadata": {},
   "outputs": [],
   "source": []
  }
 ],
 "metadata": {
  "kernelspec": {
   "display_name": "Python 3 (ipykernel)",
   "language": "python",
   "name": "python3"
  },
  "language_info": {
   "codemirror_mode": {
    "name": "ipython",
    "version": 3
   },
   "file_extension": ".py",
   "mimetype": "text/x-python",
   "name": "python",
   "nbconvert_exporter": "python",
   "pygments_lexer": "ipython3",
   "version": "3.12.0"
  }
 },
 "nbformat": 4,
 "nbformat_minor": 5
}
