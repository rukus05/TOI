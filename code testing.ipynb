{
 "cells": [
  {
   "cell_type": "code",
   "execution_count": 8,
   "id": "3308322b-2410-4411-a6c5-c7c3ec934672",
   "metadata": {},
   "outputs": [
    {
     "name": "stdout",
     "output_type": "stream",
     "text": [
      "['Name', 'Age']\n",
      "Age\n",
      "Index: 0, Name: Alice, Age: 25\n",
      "Index: 1, Name: Bob, Age: 30\n",
      "Index: 2, Name: Charlie, Age: 35\n"
     ]
    }
   ],
   "source": [
    "import pandas as pd\n",
    "\n",
    "# Create a sample DataFrame\n",
    "data = {'Name': ['Alice', 'Bob', 'Charlie'],\n",
    "        'Age': [25, 30, 35]}\n",
    "df = pd.DataFrame(data)\n",
    "c_list = list(df.columns)\n",
    "print(c_list)\n",
    "print(df['Age'].name)\n",
    "# Iterate through rows using iterrows()\n",
    "for index, row in df.iterrows():\n",
    "    print(f'Index: {index}, Name: {row[\"Name\"]}, Age: {row[\"Age\"]}')\n"
   ]
  },
  {
   "cell_type": "code",
   "execution_count": 10,
   "id": "2f099167-f482-4275-9469-201de5a5d6e7",
   "metadata": {},
   "outputs": [
    {
     "name": "stdout",
     "output_type": "stream",
     "text": [
      "14010\n"
     ]
    }
   ],
   "source": [
    "gl_code = {'Rent' : 14010, 'Rent Sales Tax' : 14020, 'CAM' : 14020, 'CAM Sales Tax' : 14020}\n",
    "\n",
    "print(gl_code['Rent'])"
   ]
  },
  {
   "cell_type": "code",
   "execution_count": null,
   "id": "b7bdf282-b190-45a1-84b3-35e1c5c335e2",
   "metadata": {},
   "outputs": [],
   "source": []
  }
 ],
 "metadata": {
  "kernelspec": {
   "display_name": "Python 3 (ipykernel)",
   "language": "python",
   "name": "python3"
  },
  "language_info": {
   "codemirror_mode": {
    "name": "ipython",
    "version": 3
   },
   "file_extension": ".py",
   "mimetype": "text/x-python",
   "name": "python",
   "nbconvert_exporter": "python",
   "pygments_lexer": "ipython3",
   "version": "3.12.0"
  }
 },
 "nbformat": 4,
 "nbformat_minor": 5
}
