{
 "cells": [
  {
   "cell_type": "code",
   "execution_count": 8,
   "id": "3308322b-2410-4411-a6c5-c7c3ec934672",
   "metadata": {},
   "outputs": [
    {
     "name": "stdout",
     "output_type": "stream",
     "text": [
      "['Name', 'Age']\n",
      "Age\n",
      "Index: 0, Name: Alice, Age: 25\n",
      "Index: 1, Name: Bob, Age: 30\n",
      "Index: 2, Name: Charlie, Age: 35\n"
     ]
    }
   ],
   "source": [
    "import pandas as pd\n",
    "\n",
    "# Create a sample DataFrame\n",
    "data = {'Name': ['Alice', 'Bob', 'Charlie'],\n",
    "        'Age': [25, 30, 35]}\n",
    "df = pd.DataFrame(data)\n",
    "c_list = list(df.columns)\n",
    "print(c_list)\n",
    "print(df['Age'].name)\n",
    "# Iterate through rows using iterrows()\n",
    "for index, row in df.iterrows():\n",
    "    print(f'Index: {index}, Name: {row[\"Name\"]}, Age: {row[\"Age\"]}')\n"
   ]
  },
  {
   "cell_type": "code",
   "execution_count": 10,
   "id": "2f099167-f482-4275-9469-201de5a5d6e7",
   "metadata": {},
   "outputs": [
    {
     "name": "stdout",
     "output_type": "stream",
     "text": [
      "14010\n"
     ]
    }
   ],
   "source": [
    "gl_code = {'Rent' : 14010, 'Rent Sales Tax' : 14020, 'CAM' : 14020, 'CAM Sales Tax' : 14020}\n",
    "\n",
    "print(gl_code['Rent'])"
   ]
  },
  {
   "cell_type": "code",
   "execution_count": 50,
   "id": "b7bdf282-b190-45a1-84b3-35e1c5c335e2",
   "metadata": {},
   "outputs": [
    {
     "name": "stdout",
     "output_type": "stream",
     "text": [
      "60200\n"
     ]
    }
   ],
   "source": [
    "pay_mappings = {\n",
    "    100100 : [52010, 52200], \n",
    "    100200 : [52010, 52200], \n",
    "    100300 : [52010, 52200], \n",
    "    100400 : [60010, 60200], \n",
    "    200100 : [60010, 60200], \n",
    "    200200 : [60010, 60200], \n",
    "    300100 : [60010, 60200], \n",
    "    300200 : [60010, 60200], \n",
    "    300250 : [60010, 60200], \n",
    "    300300 : [60010, 60200], \n",
    "    300400 : [60010, 60200], \n",
    "    300500 : [60010, 60200], \n",
    "    400100 : [60010, 60200], \n",
    "    700100 : [60010, 60200], \n",
    "    700110 : [60010, 60200], \n",
    "    700120 : [60010, 60200], \n",
    "    700200 : [60010, 60200], \n",
    "    700205 : [60010, 60200], \n",
    "    700210 : [60010, 60200], \n",
    "    700215 : [60010, 60200], \n",
    "    700230 : [60010, 60200], \n",
    "    700300 : [60010, 60200], \n",
    "    700305 : [60010, 60200], \n",
    "    700310 : [60010, 60200], \n",
    "    700315 : [60010, 60200], \n",
    "    700320 : [60010, 60200], \n",
    "    700325 : [60010, 60200], \n",
    "    700326 : [60010, 60200], \n",
    "    700327 : [60010, 60200], \n",
    "    700330 : [60010, 60200], \n",
    "    700335 : [60010, 60200], \n",
    "    700340 : [60010, 60200], \n",
    "    700345 : [60010, 60200], \n",
    "    700350 : [60010, 60200], \n",
    "    700355 : [60010, 60200], \n",
    "    700360 : [60010, 60200], \n",
    "    701000 : [60010, 60200], \n",
    "    701100 : [60010, 60200], \n",
    "    701200 : [60010, 60200], \n",
    "    701210 : [60010, 60200], \n",
    "    702010 : [60010, 60200], \n",
    "    702100 : [60010, 60200], \n",
    "    702300 : [60010, 60200], \n",
    "    702400 : [60010, 60200], \n",
    "    702410 : [60010, 60200], \n",
    "    702415 : [60010, 60200], \n",
    "    702420 : [60010, 60200], \n",
    "    703000 : [60010, 60200], \n",
    "    704000 : [60010, 60200], \n",
    "    704100 : [60010, 60200], \n",
    "    704500 : [60010, 60200], \n",
    "    704505 : [60010, 60200], \n",
    "    705000 : [60010, 60200], \n",
    "    705500 : [60010, 60200], \n",
    "    705600 : [60010, 60200], \n",
    "\n",
    "}\n",
    "print (pay_mappings[705500][1])"
   ]
  },
  {
   "cell_type": "code",
   "execution_count": 16,
   "id": "490a5e75-cc27-47cb-a1bc-b3a7ac01e8b4",
   "metadata": {},
   "outputs": [
    {
     "name": "stdin",
     "output_type": "stream",
     "text": [
      "Please enter the 4 digit year for this accrual 2023\n",
      "Please enter the 2-digit month for this accrual. 11\n"
     ]
    },
    {
     "name": "stdout",
     "output_type": "stream",
     "text": [
      "2023-11-26\n"
     ]
    }
   ],
   "source": [
    "import calendar\n",
    "import datetime\n",
    "\n",
    "current_year = int(input(\"Please enter the 4 digit year for this accrual\"))\n",
    "\n",
    "current_month = int(input(\"Please enter the 2-digit month for this accrual.\"))\n",
    "ldop = datetime.date(current_year, current_month, 26)\n",
    "today = datetime.date.today()\n",
    "print(ldop)"
   ]
  },
  {
   "cell_type": "code",
   "execution_count": 52,
   "id": "463de24b-2cb2-4fde-ad6b-93cc2d717bc4",
   "metadata": {},
   "outputs": [
    {
     "name": "stdin",
     "output_type": "stream",
     "text": [
      "Please enter the 4 digit year for this accrual 2024\n",
      "Please enter the 2-digit month for this accrual. 03\n"
     ]
    },
    {
     "name": "stdout",
     "output_type": "stream",
     "text": [
      "Sunday\n",
      "2024-03-26 2024-03-31\n",
      "4\n"
     ]
    }
   ],
   "source": [
    "import calendar\n",
    "import datetime\n",
    "import numpy as np\n",
    "\n",
    "# Get the current date\n",
    "today = datetime.date.today()\n",
    "\n",
    "# Determine the last day of the current month\n",
    "end_accrual = datetime.date(today.year, today.month, calendar.monthrange(today.year, today.month)[1])\n",
    "\n",
    "\n",
    "\n",
    "current_year = int(input(\"Please enter the 4 digit year for this accrual\"))\n",
    "\n",
    "current_month = int(input(\"Please enter the 2-digit month for this accrual.\"))\n",
    "start_accrual = datetime.date(current_year, current_month, 26)\n",
    "# Determine the last day of the accrual month\n",
    "end_accrual = datetime.date(current_year, current_month, calendar.monthrange(current_year, current_month)[1])\n",
    "\n",
    "dow = end_accrual.strftime(\"%A\")\n",
    "print(dow)\n",
    "print(start_accrual, end_accrual)\n",
    "# Calculate the number of business days\n",
    "if dow == 'Saturday' or dow == 'Sunday':\n",
    "    business_days = np.busday_count(start_accrual, end_accrual)\n",
    "else:\n",
    "    business_days = np.busday_count(start_accrual, end_accrual) + 1\n",
    "print(business_days)\n",
    "\n"
   ]
  },
  {
   "cell_type": "code",
   "execution_count": 59,
   "id": "a83fbd00-b9a5-4294-863a-f0964f7de7aa",
   "metadata": {},
   "outputs": [
    {
     "ename": "ValueError",
     "evalue": "All arrays must be of the same length",
     "output_type": "error",
     "traceback": [
      "\u001b[1;31m---------------------------------------------------------------------------\u001b[0m",
      "\u001b[1;31mValueError\u001b[0m                                Traceback (most recent call last)",
      "Cell \u001b[1;32mIn[59], line 8\u001b[0m\n\u001b[0;32m      1\u001b[0m \u001b[38;5;28;01mimport\u001b[39;00m \u001b[38;5;21;01mpandas\u001b[39;00m \u001b[38;5;28;01mas\u001b[39;00m \u001b[38;5;21;01mpd\u001b[39;00m\n\u001b[0;32m      3\u001b[0m data \u001b[38;5;241m=\u001b[39m {\u001b[38;5;124m'\u001b[39m\u001b[38;5;124mA\u001b[39m\u001b[38;5;124m'\u001b[39m: [\u001b[38;5;241m1\u001b[39m, \u001b[38;5;241m2\u001b[39m, \u001b[38;5;124m'\u001b[39m\u001b[38;5;124m'\u001b[39m, \u001b[38;5;124m'\u001b[39m\u001b[38;5;124m'\u001b[39m , \u001b[38;5;241m4\u001b[39m],\n\u001b[0;32m      4\u001b[0m         \u001b[38;5;124m'\u001b[39m\u001b[38;5;124mB\u001b[39m\u001b[38;5;124m'\u001b[39m: [\u001b[38;5;241m5\u001b[39m, \u001b[38;5;124m'\u001b[39m\u001b[38;5;124m'\u001b[39m, \u001b[38;5;241m7\u001b[39m, \u001b[38;5;241m8\u001b[39m],\n\u001b[0;32m      5\u001b[0m         \u001b[38;5;124m'\u001b[39m\u001b[38;5;124mC\u001b[39m\u001b[38;5;124m'\u001b[39m: [\u001b[38;5;241m2\u001b[39m, \u001b[38;5;241m4\u001b[39m , \u001b[38;5;241m9\u001b[39m, \u001b[38;5;241m8\u001b[39m],\n\u001b[0;32m      6\u001b[0m         \u001b[38;5;124m'\u001b[39m\u001b[38;5;124mD\u001b[39m\u001b[38;5;124m'\u001b[39m : []\n\u001b[0;32m      7\u001b[0m        }\n\u001b[1;32m----> 8\u001b[0m df \u001b[38;5;241m=\u001b[39m \u001b[43mpd\u001b[49m\u001b[38;5;241;43m.\u001b[39;49m\u001b[43mDataFrame\u001b[49m\u001b[43m(\u001b[49m\u001b[43mdata\u001b[49m\u001b[43m)\u001b[49m\n\u001b[0;32m      9\u001b[0m df_groupby \u001b[38;5;241m=\u001b[39m pd\u001b[38;5;241m.\u001b[39mgroupby(\u001b[38;5;124m'\u001b[39m\u001b[38;5;124mA\u001b[39m\u001b[38;5;124m'\u001b[39m,\u001b[38;5;124m'\u001b[39m\u001b[38;5;124mC\u001b[39m\u001b[38;5;124m'\u001b[39m)\n\u001b[0;32m     10\u001b[0m \u001b[38;5;66;03m# Check for missing values in the DataFrame\u001b[39;00m\n",
      "File \u001b[1;32m~\\AppData\\Local\\Programs\\Python\\Python312\\Lib\\site-packages\\pandas\\core\\frame.py:736\u001b[0m, in \u001b[0;36mDataFrame.__init__\u001b[1;34m(self, data, index, columns, dtype, copy)\u001b[0m\n\u001b[0;32m    730\u001b[0m     mgr \u001b[38;5;241m=\u001b[39m \u001b[38;5;28mself\u001b[39m\u001b[38;5;241m.\u001b[39m_init_mgr(\n\u001b[0;32m    731\u001b[0m         data, axes\u001b[38;5;241m=\u001b[39m{\u001b[38;5;124m\"\u001b[39m\u001b[38;5;124mindex\u001b[39m\u001b[38;5;124m\"\u001b[39m: index, \u001b[38;5;124m\"\u001b[39m\u001b[38;5;124mcolumns\u001b[39m\u001b[38;5;124m\"\u001b[39m: columns}, dtype\u001b[38;5;241m=\u001b[39mdtype, copy\u001b[38;5;241m=\u001b[39mcopy\n\u001b[0;32m    732\u001b[0m     )\n\u001b[0;32m    734\u001b[0m \u001b[38;5;28;01melif\u001b[39;00m \u001b[38;5;28misinstance\u001b[39m(data, \u001b[38;5;28mdict\u001b[39m):\n\u001b[0;32m    735\u001b[0m     \u001b[38;5;66;03m# GH#38939 de facto copy defaults to False only in non-dict cases\u001b[39;00m\n\u001b[1;32m--> 736\u001b[0m     mgr \u001b[38;5;241m=\u001b[39m \u001b[43mdict_to_mgr\u001b[49m\u001b[43m(\u001b[49m\u001b[43mdata\u001b[49m\u001b[43m,\u001b[49m\u001b[43m \u001b[49m\u001b[43mindex\u001b[49m\u001b[43m,\u001b[49m\u001b[43m \u001b[49m\u001b[43mcolumns\u001b[49m\u001b[43m,\u001b[49m\u001b[43m \u001b[49m\u001b[43mdtype\u001b[49m\u001b[38;5;241;43m=\u001b[39;49m\u001b[43mdtype\u001b[49m\u001b[43m,\u001b[49m\u001b[43m \u001b[49m\u001b[43mcopy\u001b[49m\u001b[38;5;241;43m=\u001b[39;49m\u001b[43mcopy\u001b[49m\u001b[43m,\u001b[49m\u001b[43m \u001b[49m\u001b[43mtyp\u001b[49m\u001b[38;5;241;43m=\u001b[39;49m\u001b[43mmanager\u001b[49m\u001b[43m)\u001b[49m\n\u001b[0;32m    737\u001b[0m \u001b[38;5;28;01melif\u001b[39;00m \u001b[38;5;28misinstance\u001b[39m(data, ma\u001b[38;5;241m.\u001b[39mMaskedArray):\n\u001b[0;32m    738\u001b[0m     \u001b[38;5;28;01mfrom\u001b[39;00m \u001b[38;5;21;01mnumpy\u001b[39;00m\u001b[38;5;21;01m.\u001b[39;00m\u001b[38;5;21;01mma\u001b[39;00m \u001b[38;5;28;01mimport\u001b[39;00m mrecords\n",
      "File \u001b[1;32m~\\AppData\\Local\\Programs\\Python\\Python312\\Lib\\site-packages\\pandas\\core\\internals\\construction.py:503\u001b[0m, in \u001b[0;36mdict_to_mgr\u001b[1;34m(data, index, columns, dtype, typ, copy)\u001b[0m\n\u001b[0;32m    499\u001b[0m     \u001b[38;5;28;01melse\u001b[39;00m:\n\u001b[0;32m    500\u001b[0m         \u001b[38;5;66;03m# dtype check to exclude e.g. range objects, scalars\u001b[39;00m\n\u001b[0;32m    501\u001b[0m         arrays \u001b[38;5;241m=\u001b[39m [x\u001b[38;5;241m.\u001b[39mcopy() \u001b[38;5;28;01mif\u001b[39;00m \u001b[38;5;28mhasattr\u001b[39m(x, \u001b[38;5;124m\"\u001b[39m\u001b[38;5;124mdtype\u001b[39m\u001b[38;5;124m\"\u001b[39m) \u001b[38;5;28;01melse\u001b[39;00m x \u001b[38;5;28;01mfor\u001b[39;00m x \u001b[38;5;129;01min\u001b[39;00m arrays]\n\u001b[1;32m--> 503\u001b[0m \u001b[38;5;28;01mreturn\u001b[39;00m \u001b[43marrays_to_mgr\u001b[49m\u001b[43m(\u001b[49m\u001b[43marrays\u001b[49m\u001b[43m,\u001b[49m\u001b[43m \u001b[49m\u001b[43mcolumns\u001b[49m\u001b[43m,\u001b[49m\u001b[43m \u001b[49m\u001b[43mindex\u001b[49m\u001b[43m,\u001b[49m\u001b[43m \u001b[49m\u001b[43mdtype\u001b[49m\u001b[38;5;241;43m=\u001b[39;49m\u001b[43mdtype\u001b[49m\u001b[43m,\u001b[49m\u001b[43m \u001b[49m\u001b[43mtyp\u001b[49m\u001b[38;5;241;43m=\u001b[39;49m\u001b[43mtyp\u001b[49m\u001b[43m,\u001b[49m\u001b[43m \u001b[49m\u001b[43mconsolidate\u001b[49m\u001b[38;5;241;43m=\u001b[39;49m\u001b[43mcopy\u001b[49m\u001b[43m)\u001b[49m\n",
      "File \u001b[1;32m~\\AppData\\Local\\Programs\\Python\\Python312\\Lib\\site-packages\\pandas\\core\\internals\\construction.py:114\u001b[0m, in \u001b[0;36marrays_to_mgr\u001b[1;34m(arrays, columns, index, dtype, verify_integrity, typ, consolidate)\u001b[0m\n\u001b[0;32m    111\u001b[0m \u001b[38;5;28;01mif\u001b[39;00m verify_integrity:\n\u001b[0;32m    112\u001b[0m     \u001b[38;5;66;03m# figure out the index, if necessary\u001b[39;00m\n\u001b[0;32m    113\u001b[0m     \u001b[38;5;28;01mif\u001b[39;00m index \u001b[38;5;129;01mis\u001b[39;00m \u001b[38;5;28;01mNone\u001b[39;00m:\n\u001b[1;32m--> 114\u001b[0m         index \u001b[38;5;241m=\u001b[39m \u001b[43m_extract_index\u001b[49m\u001b[43m(\u001b[49m\u001b[43marrays\u001b[49m\u001b[43m)\u001b[49m\n\u001b[0;32m    115\u001b[0m     \u001b[38;5;28;01melse\u001b[39;00m:\n\u001b[0;32m    116\u001b[0m         index \u001b[38;5;241m=\u001b[39m ensure_index(index)\n",
      "File \u001b[1;32m~\\AppData\\Local\\Programs\\Python\\Python312\\Lib\\site-packages\\pandas\\core\\internals\\construction.py:677\u001b[0m, in \u001b[0;36m_extract_index\u001b[1;34m(data)\u001b[0m\n\u001b[0;32m    675\u001b[0m lengths \u001b[38;5;241m=\u001b[39m \u001b[38;5;28mlist\u001b[39m(\u001b[38;5;28mset\u001b[39m(raw_lengths))\n\u001b[0;32m    676\u001b[0m \u001b[38;5;28;01mif\u001b[39;00m \u001b[38;5;28mlen\u001b[39m(lengths) \u001b[38;5;241m>\u001b[39m \u001b[38;5;241m1\u001b[39m:\n\u001b[1;32m--> 677\u001b[0m     \u001b[38;5;28;01mraise\u001b[39;00m \u001b[38;5;167;01mValueError\u001b[39;00m(\u001b[38;5;124m\"\u001b[39m\u001b[38;5;124mAll arrays must be of the same length\u001b[39m\u001b[38;5;124m\"\u001b[39m)\n\u001b[0;32m    679\u001b[0m \u001b[38;5;28;01mif\u001b[39;00m have_dicts:\n\u001b[0;32m    680\u001b[0m     \u001b[38;5;28;01mraise\u001b[39;00m \u001b[38;5;167;01mValueError\u001b[39;00m(\n\u001b[0;32m    681\u001b[0m         \u001b[38;5;124m\"\u001b[39m\u001b[38;5;124mMixing dicts with non-Series may lead to ambiguous ordering.\u001b[39m\u001b[38;5;124m\"\u001b[39m\n\u001b[0;32m    682\u001b[0m     )\n",
      "\u001b[1;31mValueError\u001b[0m: All arrays must be of the same length"
     ]
    }
   ],
   "source": [
    "import pandas as pd\n",
    "\n",
    "data = {'A': [1, 2, '', '' , 4],\n",
    "        'B': [5, '', 7, 8],\n",
    "        'C': [2, 4 , 9, 8],\n",
    "        'D' : []\n",
    "       }\n",
    "df = pd.DataFrame(data)\n",
    "df_groupby = pd.groupby('A','C')\n",
    "# Check for missing values in the DataFrame\n",
    "for groupings, row in df_groupby:\n",
    "    if groupings[0].isna():\n",
    "        print('Empty')\n",
    "    else: \n",
    "        print(gropuings[0])\n",
    "        \n",
    "#missing_values = df.isna()  # or df.isnull()\n",
    "\n",
    "# Display the DataFrame with missing value information\n",
    "#print(missing_values)"
   ]
  },
  {
   "cell_type": "code",
   "execution_count": null,
   "id": "44b2ca48-e9cc-45de-a613-efe079f0a80d",
   "metadata": {},
   "outputs": [],
   "source": []
  }
 ],
 "metadata": {
  "kernelspec": {
   "display_name": "Python 3 (ipykernel)",
   "language": "python",
   "name": "python3"
  },
  "language_info": {
   "codemirror_mode": {
    "name": "ipython",
    "version": 3
   },
   "file_extension": ".py",
   "mimetype": "text/x-python",
   "name": "python",
   "nbconvert_exporter": "python",
   "pygments_lexer": "ipython3",
   "version": "3.12.0"
  }
 },
 "nbformat": 4,
 "nbformat_minor": 5
}
