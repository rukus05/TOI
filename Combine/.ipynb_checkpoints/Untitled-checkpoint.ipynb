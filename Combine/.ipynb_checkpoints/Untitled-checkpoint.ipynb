{
 "cells": [
  {
   "cell_type": "code",
   "execution_count": 6,
   "id": "d3362885-389d-4e48-af73-d31dd2d05876",
   "metadata": {},
   "outputs": [
    {
     "name": "stdout",
     "output_type": "stream",
     "text": [
      "2    The value is c\n",
      "Name: B, dtype: object\n"
     ]
    }
   ],
   "source": [
    "import pandas as pd\n",
    "\n",
    "# Create a sample DataFrame\n",
    "df = pd.DataFrame({\n",
    "    'A': [1, 2, 3, 4],\n",
    "    'B': ['a', 'b', 'c', 'd']\n",
    "})\n",
    "\n",
    "#print(df)\n",
    "# Value of interest\n",
    "value_of_interest = 'c'\n",
    "\n",
    "# Search for the row that contains the value of interest\n",
    "result = df[df['B'] == value_of_interest]\n",
    "\n",
    "print('The value is ' + result['B'])"
   ]
  },
  {
   "cell_type": "code",
   "execution_count": null,
   "id": "9e56902f-651c-4b14-8e2b-ba9f3c027371",
   "metadata": {},
   "outputs": [],
   "source": []
  },
  {
   "cell_type": "markdown",
   "id": "dc0926a4-f443-47fe-bd71-7ee6aa670c2f",
   "metadata": {},
   "source": []
  }
 ],
 "metadata": {
  "kernelspec": {
   "display_name": "Python 3 (ipykernel)",
   "language": "python",
   "name": "python3"
  },
  "language_info": {
   "codemirror_mode": {
    "name": "ipython",
    "version": 3
   },
   "file_extension": ".py",
   "mimetype": "text/x-python",
   "name": "python",
   "nbconvert_exporter": "python",
   "pygments_lexer": "ipython3",
   "version": "3.12.0"
  }
 },
 "nbformat": 4,
 "nbformat_minor": 5
}
