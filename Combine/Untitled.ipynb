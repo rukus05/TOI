{
 "cells": [
  {
   "cell_type": "code",
   "execution_count": 9,
   "id": "c14640da-fe37-4f81-b653-5f0c43f96988",
   "metadata": {},
   "outputs": [
    {
     "name": "stdout",
     "output_type": "stream",
     "text": [
      "                                                   A  \\\n",
      "0  {'a': 'alicia', 'b': 'betty', 'c': 'claire', '...   \n",
      "\n",
      "                                                   B  \n",
      "0  {'a': 'alpha', 'b': 'bravo', 'c': 'charlie', '...  \n",
      "alpha\n"
     ]
    }
   ],
   "source": [
    "import pandas as pd\n",
    "\n",
    "# Create a sample DataFrame\n",
    "df = pd.DataFrame({\n",
    "    'A': [{'a' : 'alicia', 'b' : 'betty', 'c' : 'claire', 'd' : 'devina'}],\n",
    "    'B': [{'a' : 'alpha' , 'b' : 'bravo', 'c' : 'charlie', 'd' : 'delta'}]\n",
    "})\n",
    "print(df)\n",
    "value = df['B'][0]['a']\n",
    "print(value)"
   ]
  },
  {
   "cell_type": "code",
   "execution_count": 10,
   "id": "2db31e5d-0a0b-42c0-a767-6a76340932ba",
   "metadata": {},
   "outputs": [
    {
     "name": "stdout",
     "output_type": "stream",
     "text": [
      "     A     B\n",
      "0  1.0   4.0\n",
      "1  2.0   NaN\n",
      "2  3.0   6.0\n",
      "3  7.0  10.0\n",
      "4  NaN  11.0\n",
      "5  9.0   NaN\n"
     ]
    }
   ],
   "source": [
    "import pandas as pd\n",
    "\n",
    "# Example DataFrames with empty or all-NA entries\n",
    "df1 = pd.DataFrame({'A': [1, 2, 3], 'B': [4, None, 6]})\n",
    "df2 = pd.DataFrame({'A': [7, None, 9], 'B': [10, 11, None]})\n",
    "\n",
    "# Exclude empty or all-NA entries before concatenation\n",
    "df1 = df1.dropna(axis=1, how='all')\n",
    "df2 = df2.dropna(axis=1, how='all')\n",
    "\n",
    "# Concatenate the DataFrames\n",
    "result = pd.concat([df1, df2], ignore_index=True)\n",
    "\n",
    "print(result)"
   ]
  },
  {
   "cell_type": "code",
   "execution_count": null,
   "id": "1bbec97b-2781-4331-915a-1f322b05d907",
   "metadata": {},
   "outputs": [],
   "source": []
  }
 ],
 "metadata": {
  "kernelspec": {
   "display_name": "Python 3 (ipykernel)",
   "language": "python",
   "name": "python3"
  },
  "language_info": {
   "codemirror_mode": {
    "name": "ipython",
    "version": 3
   },
   "file_extension": ".py",
   "mimetype": "text/x-python",
   "name": "python",
   "nbconvert_exporter": "python",
   "pygments_lexer": "ipython3",
   "version": "3.12.0"
  }
 },
 "nbformat": 4,
 "nbformat_minor": 5
}
