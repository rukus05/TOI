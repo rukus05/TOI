{
 "cells": [
  {
   "cell_type": "code",
   "execution_count": 10,
   "id": "8eec21f9-14fd-4635-8734-52f74571a332",
   "metadata": {},
   "outputs": [
    {
     "name": "stdout",
     "output_type": "stream",
     "text": [
      "210\n",
      "11\n",
      "196\n"
     ]
    }
   ],
   "source": [
    "import pandas as pd\n",
    "\n",
    "excel_file = 'ACCT - Employee Earnings Report - NEW 11012023-11152023.xlsx'  # Replace with the path to your Excel file\n",
    "df_toi = pd.read_excel(excel_file)\n",
    "\n",
    "df_toi = df_toi.reset_index()\n",
    "# Fill all blank cells with zeros.  \n",
    "# It's critiacal that any columns you do calculations do not have blanks.\n",
    "df_toi.fillna(0, inplace=True)\n",
    "# Put column headers into a List\n",
    "all_col_headers = list(df_toi.columns)   \n",
    "print(len(all_col_headers))\n",
    "\n",
    "remove_accts = ['Overtime Hours Total', 'WAGES', 'OT', 'BONUS', 'SIGNING BONUS', 'VACATION', 'SEVERANCE', 'Gross Pay']\n",
    "\n",
    "col_headers = [x for x in all_col_headers if x not in remove_accts] \n",
    "no_of_columns = len(col_headers)    \n",
    "\n",
    "RET = \"Regular Earnings Total\"\n",
    "if RET in col_headers:\n",
    "    # Find index for element of \"Regular Earnings Total\"\n",
    "    index_ret = col_headers.index(RET)\n",
    "print(index_ret)\n",
    "\n",
    "money_headers = col_headers[index_ret:]\n",
    "# Discount for the last column, which is \"Batch Number\"\n",
    "money_headers.pop()\n",
    "# Save the number of money headers.\n",
    "size_of_money_headers = len(money_headers)\n",
    "print(size_of_money_headers)"
   ]
  },
  {
   "cell_type": "code",
   "execution_count": null,
   "id": "fd0977cd-7afd-4715-8e2e-bf011ad5b834",
   "metadata": {},
   "outputs": [],
   "source": []
  }
 ],
 "metadata": {
  "kernelspec": {
   "display_name": "Python 3 (ipykernel)",
   "language": "python",
   "name": "python3"
  },
  "language_info": {
   "codemirror_mode": {
    "name": "ipython",
    "version": 3
   },
   "file_extension": ".py",
   "mimetype": "text/x-python",
   "name": "python",
   "nbconvert_exporter": "python",
   "pygments_lexer": "ipython3",
   "version": "3.12.0"
  }
 },
 "nbformat": 4,
 "nbformat_minor": 5
}
